{
  "nbformat": 4,
  "nbformat_minor": 0,
  "metadata": {
    "colab": {
      "provenance": []
    },
    "kernelspec": {
      "name": "python3",
      "display_name": "Python 3"
    },
    "language_info": {
      "name": "python"
    }
  },
  "cells": [
    {
      "cell_type": "code",
      "execution_count": null,
      "metadata": {
        "id": "ZvA8m7-3IJwJ",
        "colab": {
          "base_uri": "https://localhost:8080/"
        },
        "outputId": "9beb15e0-d6b1-4634-f693-a9e0fd004cea"
      },
      "outputs": [
        {
          "output_type": "stream",
          "name": "stdout",
          "text": [
            "請輸入國文成績(整數)：50\n",
            "請輸入英文成績(整數)：60\n",
            "請輸入數學成績(整數)：70\n",
            "您的成績總分為:180\n"
          ]
        }
      ],
      "source": [
        "chinese=int(input('請輸入國文成績(整數)：'))\n",
        "english=int(input('請輸入英文成績(整數)：'))\n",
        "math=int(input('請輸入數學成績(整數)：'))\n",
        "total=chinese+english+math\n",
        "print('您的成績總分為:%3d'% total)"
      ]
    },
    {
      "cell_type": "code",
      "source": [
        "f=(input('請輸入梯形上底長度:'))\n",
        "g=(input('請輸入梯形下底長度:'))\n",
        "h=(input('請輸入梯形的高度:'))\n",
        "上底=int(f)\n",
        "下底=int(g)\n",
        "高=int(h)\n",
        "面積=(上底+下底)*高/2\n",
        "print('上底長度：',上底,'下底長度：',下底,'高度：',高,'梯形面積：',面積)"
      ],
      "metadata": {
        "colab": {
          "base_uri": "https://localhost:8080/"
        },
        "id": "pk7qpJE6KYzj",
        "outputId": "b6db826d-1628-4b2e-e1e7-2ee482eebdad"
      },
      "execution_count": null,
      "outputs": [
        {
          "output_type": "stream",
          "name": "stdout",
          "text": [
            "請輸入梯形上底長度:3\n",
            "請輸入梯形下底長度:4\n",
            "請輸入梯形的高度:3\n",
            "上底長度： 3 下底長度： 4 高度： 3 梯形面積： 10.5\n"
          ]
        }
      ]
    },
    {
      "cell_type": "code",
      "source": [
        "height_cm=float(input('請輸入您的身高（cm):'))\n",
        "weight=float(input('請輸入您的體重（kg):'))\n",
        "height_m=height_cm/100\n",
        "bmi=weight/(height_m**2)\n",
        "print('BMI為：%3.2f'%bmi)"
      ],
      "metadata": {
        "colab": {
          "base_uri": "https://localhost:8080/"
        },
        "id": "M3Rw0hTOKVjV",
        "outputId": "792ec3bf-1c81-4fd6-f4a0-563298c327b9"
      },
      "execution_count": null,
      "outputs": [
        {
          "output_type": "stream",
          "name": "stdout",
          "text": [
            "請輸入您的身高（cm):180\n",
            "請輸入您的體重（kg):80\n",
            "BMI為：24.69\n"
          ]
        }
      ]
    }
  ]
}